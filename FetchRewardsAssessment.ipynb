{
 "cells": [
  {
   "cell_type": "markdown",
   "id": "89d3389c",
   "metadata": {},
   "source": [
    "## Fetch Rewards: Solutions Engineer - Take Home Challenge"
   ]
  },
  {
   "cell_type": "markdown",
   "id": "b84a8fc7",
   "metadata": {},
   "source": [
    "**Work done in this file:**\n",
    "\n",
    "1. Review unstructured JSON data and diagram a new structured relational data model\n",
    "    1. Imported JSON files one by one and used custom code to read those and convert to dictionary/csv.\n",
    "    2. Checked for duplicates & Null Values\n",
    "    3. Mentioned the **(.drawio)** file to refer for relational data model\n",
    "             \n",
    "    \n",
    "2. Generate queries that answers a predetermined business question    \n",
    "    \n",
    "       Mentioned the .sql file to refer for queries answering below business questions  \n",
    "    \n",
    "    1. When considering average spend from receipts with 'rewardsReceiptStatus’ of ‘Accepted’ or ‘Rejected’, which is greater?\n",
    "    2. When considering total number of items purchased from receipts with 'rewardsReceiptStatus’ of ‘Accepted’ or ‘Rejected’, which is greater?\n",
    "    3. Which brand has the most spend among users who were created within the past 6 months?\n",
    "    4. Which brand has the most transactions among users who were created within the past 6 months?\n",
    "    \n",
    "3. Evaluate Data Quality Issues in the Data Provided\n",
    "\n",
    "       Mentioned .sql file identifying some of the data quality issues\n",
    "       \n",
    "4. Communicate with Stakeholders\n",
    "        \n",
    "        Mentioned the .txt file containing email communication to be sent to stakeholder\n",
    "        \n",
    "> SQL Dialect used: MS SQL Server (SQL Server Management Studio 16.0.19061.0\n"
   ]
  },
  {
   "cell_type": "markdown",
   "id": "77296a77",
   "metadata": {},
   "source": [
    "### 1.  Review unstructured JSON data and diagram a new structured relational data model"
   ]
  },
  {
   "cell_type": "markdown",
   "id": "790b0816",
   "metadata": {},
   "source": [
    "**Note:** \n",
    "Provided JSON files contain nested dictionaries. Instead of using read_json function (pandas) directly, I developed custom code to read dictionaries from the json files which allowed more control over extracting and modifying the nested data."
   ]
  },
  {
   "cell_type": "markdown",
   "id": "fac21dbe",
   "metadata": {},
   "source": [
    "**Understanding:**\n",
    "\n",
    "There were total 3 JSON files (receipts, brands, users) provided. \n",
    "\n",
    "Receipts: \n",
    "> On analyzing the receipts.json file, I noticed that some of the keys 'id', date fields, 'rewardReceiptItemList' have dictionary as its values. \n",
    "\n",
    "> Extracting id & date fields was straight-forward as compared to 'rewardReceiptItemList'. Created a different dataframe/table for rewardReceiptItemList. \n",
    "\n",
    "> Formatted the date fields from epoch time format(Unix Time stamp) to readable format.\n",
    "\n",
    "> There exists one to many relationship between Receipts and rewardReceiptItemList with primary and foreign key as 'id' in both tables.\n",
    "\n",
    "\n",
    "Brands: \n",
    "> Value for 'cpg' key was a list with oid & ref, hence created two new columns in brands as cpg_id, cpg_ref. \n",
    "\n",
    "> There exists many to many relationship between 'brands' and 'rewardReceiptItemList'. \n",
    "\n",
    "\n",
    "Users: \n",
    "> Formatted the date fields from epoch time format(Unix Time stamp) to readable format.\n",
    "\n",
    "> There exists one to many relationship between 'users' and 'receipts'\n"
   ]
  },
  {
   "cell_type": "code",
   "execution_count": 1,
   "id": "84556f84",
   "metadata": {},
   "outputs": [],
   "source": [
    "import pandas as pd\n",
    "from datetime import datetime\n",
    "import json"
   ]
  },
  {
   "cell_type": "code",
   "execution_count": 2,
   "id": "ec35064f",
   "metadata": {},
   "outputs": [],
   "source": [
    "# Function for loading json file\n",
    "\n",
    "def load_data(file_name):\n",
    "    data = []\n",
    "    with open(file_name, 'r') as file:\n",
    "        for line in file:\n",
    "            data.append(json.loads(line))\n",
    "    return data"
   ]
  },
  {
   "cell_type": "code",
   "execution_count": 3,
   "id": "4106292b",
   "metadata": {},
   "outputs": [],
   "source": [
    "# Function for modifying date format\n",
    "\n",
    "def modify_date(dt_value):\n",
    "        dt=dt_value/ 1000  # Convert milliseconds to seconds\n",
    "        date_val = datetime.utcfromtimestamp(dt).strftime('%Y-%m-%d %H:%M:%S')\n",
    "        return date_val"
   ]
  },
  {
   "cell_type": "markdown",
   "id": "33d69e32",
   "metadata": {},
   "source": [
    "##### Receipts:"
   ]
  },
  {
   "cell_type": "code",
   "execution_count": 4,
   "id": "5137dffa",
   "metadata": {},
   "outputs": [],
   "source": [
    "#Importing receipts.json file\n",
    "\n",
    "receipt_data = load_data('receipts.json')"
   ]
  },
  {
   "cell_type": "code",
   "execution_count": 5,
   "id": "f45f9d23",
   "metadata": {},
   "outputs": [],
   "source": [
    "# Formatting _id & date keys \n",
    "\n",
    "receipt_data_new=[]\n",
    "\n",
    "for i in range(len(receipt_data)):\n",
    "    receipt1={}\n",
    "    for key,value in receipt_data[i].items():\n",
    "        \n",
    "        if ('Date' in key) or ('date'in key):\n",
    "            #dt = value['$date']/1000  # Convert milliseconds to seconds\n",
    "            #date_val = datetime.utcfromtimestamp(dt).strftime('%Y-%m-%d %H:%M:%S')\n",
    "            receipt1[key] = modify_date(value['$date'])          \n",
    "        elif (key == '_id'):\n",
    "            receipt1[f'{key}']=value['$oid']\n",
    "            \n",
    "        else:\n",
    "            receipt1[f'{key}'] = value\n",
    "    receipt_data_new.append(receipt1)"
   ]
  },
  {
   "cell_type": "code",
   "execution_count": 6,
   "id": "6a20785b",
   "metadata": {},
   "outputs": [],
   "source": [
    "# Receipts dataframe\n",
    "\n",
    "_schema=['_id', 'bonusPointsEarned', 'bonusPointsEarnedReason', 'createDate', 'dateScanned', 'finishedDate', 'modifyDate', 'pointsAwardedDate', 'pointsEarned', 'purchaseDate', 'purchasedItemCount',  'rewardsReceiptStatus', 'totalSpent', 'userId']\n",
    "\n",
    "receipts_df = pd.DataFrame(receipt_data_new,columns=_schema)"
   ]
  },
  {
   "cell_type": "code",
   "execution_count": 7,
   "id": "ca1a721a",
   "metadata": {
    "scrolled": true
   },
   "outputs": [
    {
     "data": {
      "text/html": [
       "<div>\n",
       "<style scoped>\n",
       "    .dataframe tbody tr th:only-of-type {\n",
       "        vertical-align: middle;\n",
       "    }\n",
       "\n",
       "    .dataframe tbody tr th {\n",
       "        vertical-align: top;\n",
       "    }\n",
       "\n",
       "    .dataframe thead th {\n",
       "        text-align: right;\n",
       "    }\n",
       "</style>\n",
       "<table border=\"1\" class=\"dataframe\">\n",
       "  <thead>\n",
       "    <tr style=\"text-align: right;\">\n",
       "      <th></th>\n",
       "      <th>_id</th>\n",
       "      <th>bonusPointsEarned</th>\n",
       "      <th>bonusPointsEarnedReason</th>\n",
       "      <th>createDate</th>\n",
       "      <th>dateScanned</th>\n",
       "      <th>finishedDate</th>\n",
       "      <th>modifyDate</th>\n",
       "      <th>pointsAwardedDate</th>\n",
       "      <th>pointsEarned</th>\n",
       "      <th>purchaseDate</th>\n",
       "      <th>purchasedItemCount</th>\n",
       "      <th>rewardsReceiptStatus</th>\n",
       "      <th>totalSpent</th>\n",
       "      <th>userId</th>\n",
       "    </tr>\n",
       "  </thead>\n",
       "  <tbody>\n",
       "    <tr>\n",
       "      <th>0</th>\n",
       "      <td>5ff1e1eb0a720f0523000575</td>\n",
       "      <td>500.0</td>\n",
       "      <td>Receipt number 2 completed, bonus point schedu...</td>\n",
       "      <td>2021-01-03 15:25:31</td>\n",
       "      <td>2021-01-03 15:25:31</td>\n",
       "      <td>2021-01-03 15:25:31</td>\n",
       "      <td>2021-01-03 15:25:36</td>\n",
       "      <td>2021-01-03 15:25:31</td>\n",
       "      <td>500.0</td>\n",
       "      <td>2021-01-03 00:00:00</td>\n",
       "      <td>5.0</td>\n",
       "      <td>FINISHED</td>\n",
       "      <td>26.00</td>\n",
       "      <td>5ff1e1eacfcf6c399c274ae6</td>\n",
       "    </tr>\n",
       "    <tr>\n",
       "      <th>1</th>\n",
       "      <td>5ff1e1bb0a720f052300056b</td>\n",
       "      <td>150.0</td>\n",
       "      <td>Receipt number 5 completed, bonus point schedu...</td>\n",
       "      <td>2021-01-03 15:24:43</td>\n",
       "      <td>2021-01-03 15:24:43</td>\n",
       "      <td>2021-01-03 15:24:43</td>\n",
       "      <td>2021-01-03 15:24:48</td>\n",
       "      <td>2021-01-03 15:24:43</td>\n",
       "      <td>150.0</td>\n",
       "      <td>2021-01-02 15:24:43</td>\n",
       "      <td>2.0</td>\n",
       "      <td>FINISHED</td>\n",
       "      <td>11.00</td>\n",
       "      <td>5ff1e194b6a9d73a3a9f1052</td>\n",
       "    </tr>\n",
       "    <tr>\n",
       "      <th>2</th>\n",
       "      <td>5ff1e1f10a720f052300057a</td>\n",
       "      <td>5.0</td>\n",
       "      <td>All-receipts receipt bonus</td>\n",
       "      <td>2021-01-03 15:25:37</td>\n",
       "      <td>2021-01-03 15:25:37</td>\n",
       "      <td>NaN</td>\n",
       "      <td>2021-01-03 15:25:42</td>\n",
       "      <td>NaN</td>\n",
       "      <td>5</td>\n",
       "      <td>2021-01-03 00:00:00</td>\n",
       "      <td>1.0</td>\n",
       "      <td>REJECTED</td>\n",
       "      <td>10.00</td>\n",
       "      <td>5ff1e1f1cfcf6c399c274b0b</td>\n",
       "    </tr>\n",
       "    <tr>\n",
       "      <th>3</th>\n",
       "      <td>5ff1e1ee0a7214ada100056f</td>\n",
       "      <td>5.0</td>\n",
       "      <td>All-receipts receipt bonus</td>\n",
       "      <td>2021-01-03 15:25:34</td>\n",
       "      <td>2021-01-03 15:25:34</td>\n",
       "      <td>2021-01-03 15:25:34</td>\n",
       "      <td>2021-01-03 15:25:39</td>\n",
       "      <td>2021-01-03 15:25:34</td>\n",
       "      <td>5.0</td>\n",
       "      <td>2021-01-03 00:00:00</td>\n",
       "      <td>4.0</td>\n",
       "      <td>FINISHED</td>\n",
       "      <td>28.00</td>\n",
       "      <td>5ff1e1eacfcf6c399c274ae6</td>\n",
       "    </tr>\n",
       "    <tr>\n",
       "      <th>4</th>\n",
       "      <td>5ff1e1d20a7214ada1000561</td>\n",
       "      <td>5.0</td>\n",
       "      <td>All-receipts receipt bonus</td>\n",
       "      <td>2021-01-03 15:25:06</td>\n",
       "      <td>2021-01-03 15:25:06</td>\n",
       "      <td>2021-01-03 15:25:11</td>\n",
       "      <td>2021-01-03 15:25:11</td>\n",
       "      <td>2021-01-03 15:25:06</td>\n",
       "      <td>5.0</td>\n",
       "      <td>2021-01-02 15:25:06</td>\n",
       "      <td>2.0</td>\n",
       "      <td>FINISHED</td>\n",
       "      <td>1.00</td>\n",
       "      <td>5ff1e194b6a9d73a3a9f1052</td>\n",
       "    </tr>\n",
       "  </tbody>\n",
       "</table>\n",
       "</div>"
      ],
      "text/plain": [
       "                        _id  bonusPointsEarned  \\\n",
       "0  5ff1e1eb0a720f0523000575              500.0   \n",
       "1  5ff1e1bb0a720f052300056b              150.0   \n",
       "2  5ff1e1f10a720f052300057a                5.0   \n",
       "3  5ff1e1ee0a7214ada100056f                5.0   \n",
       "4  5ff1e1d20a7214ada1000561                5.0   \n",
       "\n",
       "                             bonusPointsEarnedReason           createDate  \\\n",
       "0  Receipt number 2 completed, bonus point schedu...  2021-01-03 15:25:31   \n",
       "1  Receipt number 5 completed, bonus point schedu...  2021-01-03 15:24:43   \n",
       "2                         All-receipts receipt bonus  2021-01-03 15:25:37   \n",
       "3                         All-receipts receipt bonus  2021-01-03 15:25:34   \n",
       "4                         All-receipts receipt bonus  2021-01-03 15:25:06   \n",
       "\n",
       "           dateScanned         finishedDate           modifyDate  \\\n",
       "0  2021-01-03 15:25:31  2021-01-03 15:25:31  2021-01-03 15:25:36   \n",
       "1  2021-01-03 15:24:43  2021-01-03 15:24:43  2021-01-03 15:24:48   \n",
       "2  2021-01-03 15:25:37                  NaN  2021-01-03 15:25:42   \n",
       "3  2021-01-03 15:25:34  2021-01-03 15:25:34  2021-01-03 15:25:39   \n",
       "4  2021-01-03 15:25:06  2021-01-03 15:25:11  2021-01-03 15:25:11   \n",
       "\n",
       "     pointsAwardedDate pointsEarned         purchaseDate  purchasedItemCount  \\\n",
       "0  2021-01-03 15:25:31        500.0  2021-01-03 00:00:00                 5.0   \n",
       "1  2021-01-03 15:24:43        150.0  2021-01-02 15:24:43                 2.0   \n",
       "2                  NaN            5  2021-01-03 00:00:00                 1.0   \n",
       "3  2021-01-03 15:25:34          5.0  2021-01-03 00:00:00                 4.0   \n",
       "4  2021-01-03 15:25:06          5.0  2021-01-02 15:25:06                 2.0   \n",
       "\n",
       "  rewardsReceiptStatus totalSpent                    userId  \n",
       "0             FINISHED      26.00  5ff1e1eacfcf6c399c274ae6  \n",
       "1             FINISHED      11.00  5ff1e194b6a9d73a3a9f1052  \n",
       "2             REJECTED      10.00  5ff1e1f1cfcf6c399c274b0b  \n",
       "3             FINISHED      28.00  5ff1e1eacfcf6c399c274ae6  \n",
       "4             FINISHED       1.00  5ff1e194b6a9d73a3a9f1052  "
      ]
     },
     "execution_count": 7,
     "metadata": {},
     "output_type": "execute_result"
    }
   ],
   "source": [
    "receipts_df.head()"
   ]
  },
  {
   "cell_type": "code",
   "execution_count": 8,
   "id": "b89329b4",
   "metadata": {},
   "outputs": [
    {
     "name": "stdout",
     "output_type": "stream",
     "text": [
      "<class 'pandas.core.frame.DataFrame'>\n",
      "RangeIndex: 1119 entries, 0 to 1118\n",
      "Data columns (total 14 columns):\n",
      " #   Column                   Non-Null Count  Dtype  \n",
      "---  ------                   --------------  -----  \n",
      " 0   _id                      1119 non-null   object \n",
      " 1   bonusPointsEarned        544 non-null    float64\n",
      " 2   bonusPointsEarnedReason  544 non-null    object \n",
      " 3   createDate               1119 non-null   object \n",
      " 4   dateScanned              1119 non-null   object \n",
      " 5   finishedDate             568 non-null    object \n",
      " 6   modifyDate               1119 non-null   object \n",
      " 7   pointsAwardedDate        537 non-null    object \n",
      " 8   pointsEarned             609 non-null    object \n",
      " 9   purchaseDate             671 non-null    object \n",
      " 10  purchasedItemCount       635 non-null    float64\n",
      " 11  rewardsReceiptStatus     1119 non-null   object \n",
      " 12  totalSpent               684 non-null    object \n",
      " 13  userId                   1119 non-null   object \n",
      "dtypes: float64(2), object(12)\n",
      "memory usage: 122.5+ KB\n"
     ]
    }
   ],
   "source": [
    "receipts_df.info()"
   ]
  },
  {
   "cell_type": "code",
   "execution_count": 9,
   "id": "100552c3",
   "metadata": {},
   "outputs": [
    {
     "data": {
      "text/plain": [
       "0"
      ]
     },
     "execution_count": 9,
     "metadata": {},
     "output_type": "execute_result"
    }
   ],
   "source": [
    "receipts_df.duplicated().sum()"
   ]
  },
  {
   "cell_type": "code",
   "execution_count": 10,
   "id": "e813788a",
   "metadata": {},
   "outputs": [
    {
     "data": {
      "text/plain": [
       "_id                         0.00\n",
       "createDate                  0.00\n",
       "dateScanned                 0.00\n",
       "modifyDate                  0.00\n",
       "rewardsReceiptStatus        0.00\n",
       "userId                      0.00\n",
       "totalSpent                 38.87\n",
       "purchaseDate               40.04\n",
       "purchasedItemCount         43.25\n",
       "pointsEarned               45.58\n",
       "finishedDate               49.24\n",
       "bonusPointsEarned          51.39\n",
       "bonusPointsEarnedReason    51.39\n",
       "pointsAwardedDate          52.01\n",
       "dtype: float64"
      ]
     },
     "execution_count": 10,
     "metadata": {},
     "output_type": "execute_result"
    }
   ],
   "source": [
    "# % Null values in receipts\n",
    "round(receipts_df.isnull().mean()*100,2).sort_values()"
   ]
  },
  {
   "cell_type": "code",
   "execution_count": 11,
   "id": "4b6e53ce",
   "metadata": {},
   "outputs": [],
   "source": [
    "receipts_df.to_csv(r'Receipts.csv', index=False)"
   ]
  },
  {
   "cell_type": "markdown",
   "id": "528c7a66",
   "metadata": {},
   "source": [
    "##### Reward Receipt Item List:"
   ]
  },
  {
   "cell_type": "code",
   "execution_count": 12,
   "id": "989af7b7",
   "metadata": {},
   "outputs": [],
   "source": [
    "# Reward Receipt items List \n",
    "\n",
    "reward_receipt_new=[]\n",
    "\n",
    "for i in range(len(receipt_data)):   \n",
    "    if 'rewardsReceiptItemList' in receipt_data[i].keys():        \n",
    "        for k in receipt_data[i]['rewardsReceiptItemList']:\n",
    "            reward_receipt1={}\n",
    "            for key,value in k.items():\n",
    "                if ('Date' in key) or ('date'in key):\n",
    "                    reward_receipt1[f'{key}'] = modify_date(value) # date formatting\n",
    "                else:\n",
    "                    reward_receipt1['_id'] = receipt_data[i]['_id']['$oid'] #extracting _id\n",
    "                    reward_receipt1[f'{key}'] = value\n",
    "            reward_receipt_new.append(reward_receipt1)"
   ]
  },
  {
   "cell_type": "code",
   "execution_count": 13,
   "id": "2adaf3a5",
   "metadata": {},
   "outputs": [],
   "source": [
    "# Reward Receipt Item list dataframe\n",
    "\n",
    "reward_receipts_df =pd.DataFrame(reward_receipt_new)\n"
   ]
  },
  {
   "cell_type": "code",
   "execution_count": 14,
   "id": "249efa74",
   "metadata": {},
   "outputs": [
    {
     "data": {
      "text/html": [
       "<div>\n",
       "<style scoped>\n",
       "    .dataframe tbody tr th:only-of-type {\n",
       "        vertical-align: middle;\n",
       "    }\n",
       "\n",
       "    .dataframe tbody tr th {\n",
       "        vertical-align: top;\n",
       "    }\n",
       "\n",
       "    .dataframe thead th {\n",
       "        text-align: right;\n",
       "    }\n",
       "</style>\n",
       "<table border=\"1\" class=\"dataframe\">\n",
       "  <thead>\n",
       "    <tr style=\"text-align: right;\">\n",
       "      <th></th>\n",
       "      <th>_id</th>\n",
       "      <th>barcode</th>\n",
       "      <th>description</th>\n",
       "      <th>finalPrice</th>\n",
       "      <th>itemPrice</th>\n",
       "      <th>needsFetchReview</th>\n",
       "      <th>partnerItemId</th>\n",
       "      <th>preventTargetGapPoints</th>\n",
       "      <th>quantityPurchased</th>\n",
       "      <th>userFlaggedBarcode</th>\n",
       "      <th>...</th>\n",
       "      <th>itemNumber</th>\n",
       "      <th>originalMetaBriteQuantityPurchased</th>\n",
       "      <th>pointsEarned</th>\n",
       "      <th>targetPrice</th>\n",
       "      <th>competitiveProduct</th>\n",
       "      <th>originalFinalPrice</th>\n",
       "      <th>originalMetaBriteItemPrice</th>\n",
       "      <th>deleted</th>\n",
       "      <th>priceAfterCoupon</th>\n",
       "      <th>metabriteCampaignId</th>\n",
       "    </tr>\n",
       "  </thead>\n",
       "  <tbody>\n",
       "    <tr>\n",
       "      <th>0</th>\n",
       "      <td>5ff1e1eb0a720f0523000575</td>\n",
       "      <td>4011</td>\n",
       "      <td>ITEM NOT FOUND</td>\n",
       "      <td>26.00</td>\n",
       "      <td>26.00</td>\n",
       "      <td>False</td>\n",
       "      <td>1</td>\n",
       "      <td>True</td>\n",
       "      <td>5.0</td>\n",
       "      <td>4011</td>\n",
       "      <td>...</td>\n",
       "      <td>NaN</td>\n",
       "      <td>NaN</td>\n",
       "      <td>NaN</td>\n",
       "      <td>NaN</td>\n",
       "      <td>NaN</td>\n",
       "      <td>NaN</td>\n",
       "      <td>NaN</td>\n",
       "      <td>NaN</td>\n",
       "      <td>NaN</td>\n",
       "      <td>NaN</td>\n",
       "    </tr>\n",
       "    <tr>\n",
       "      <th>1</th>\n",
       "      <td>5ff1e1bb0a720f052300056b</td>\n",
       "      <td>4011</td>\n",
       "      <td>ITEM NOT FOUND</td>\n",
       "      <td>1</td>\n",
       "      <td>1</td>\n",
       "      <td>NaN</td>\n",
       "      <td>1</td>\n",
       "      <td>NaN</td>\n",
       "      <td>1.0</td>\n",
       "      <td>NaN</td>\n",
       "      <td>...</td>\n",
       "      <td>NaN</td>\n",
       "      <td>NaN</td>\n",
       "      <td>NaN</td>\n",
       "      <td>NaN</td>\n",
       "      <td>NaN</td>\n",
       "      <td>NaN</td>\n",
       "      <td>NaN</td>\n",
       "      <td>NaN</td>\n",
       "      <td>NaN</td>\n",
       "      <td>NaN</td>\n",
       "    </tr>\n",
       "    <tr>\n",
       "      <th>2</th>\n",
       "      <td>5ff1e1bb0a720f052300056b</td>\n",
       "      <td>028400642255</td>\n",
       "      <td>DORITOS TORTILLA CHIP SPICY SWEET CHILI REDUCE...</td>\n",
       "      <td>10.00</td>\n",
       "      <td>10.00</td>\n",
       "      <td>True</td>\n",
       "      <td>2</td>\n",
       "      <td>True</td>\n",
       "      <td>1.0</td>\n",
       "      <td>028400642255</td>\n",
       "      <td>...</td>\n",
       "      <td>NaN</td>\n",
       "      <td>NaN</td>\n",
       "      <td>NaN</td>\n",
       "      <td>NaN</td>\n",
       "      <td>NaN</td>\n",
       "      <td>NaN</td>\n",
       "      <td>NaN</td>\n",
       "      <td>NaN</td>\n",
       "      <td>NaN</td>\n",
       "      <td>NaN</td>\n",
       "    </tr>\n",
       "    <tr>\n",
       "      <th>3</th>\n",
       "      <td>5ff1e1f10a720f052300057a</td>\n",
       "      <td>NaN</td>\n",
       "      <td>NaN</td>\n",
       "      <td>NaN</td>\n",
       "      <td>NaN</td>\n",
       "      <td>False</td>\n",
       "      <td>1</td>\n",
       "      <td>True</td>\n",
       "      <td>NaN</td>\n",
       "      <td>4011</td>\n",
       "      <td>...</td>\n",
       "      <td>NaN</td>\n",
       "      <td>NaN</td>\n",
       "      <td>NaN</td>\n",
       "      <td>NaN</td>\n",
       "      <td>NaN</td>\n",
       "      <td>NaN</td>\n",
       "      <td>NaN</td>\n",
       "      <td>NaN</td>\n",
       "      <td>NaN</td>\n",
       "      <td>NaN</td>\n",
       "    </tr>\n",
       "    <tr>\n",
       "      <th>4</th>\n",
       "      <td>5ff1e1ee0a7214ada100056f</td>\n",
       "      <td>4011</td>\n",
       "      <td>ITEM NOT FOUND</td>\n",
       "      <td>28.00</td>\n",
       "      <td>28.00</td>\n",
       "      <td>False</td>\n",
       "      <td>1</td>\n",
       "      <td>True</td>\n",
       "      <td>4.0</td>\n",
       "      <td>4011</td>\n",
       "      <td>...</td>\n",
       "      <td>NaN</td>\n",
       "      <td>NaN</td>\n",
       "      <td>NaN</td>\n",
       "      <td>NaN</td>\n",
       "      <td>NaN</td>\n",
       "      <td>NaN</td>\n",
       "      <td>NaN</td>\n",
       "      <td>NaN</td>\n",
       "      <td>NaN</td>\n",
       "      <td>NaN</td>\n",
       "    </tr>\n",
       "  </tbody>\n",
       "</table>\n",
       "<p>5 rows × 35 columns</p>\n",
       "</div>"
      ],
      "text/plain": [
       "                        _id       barcode  \\\n",
       "0  5ff1e1eb0a720f0523000575          4011   \n",
       "1  5ff1e1bb0a720f052300056b          4011   \n",
       "2  5ff1e1bb0a720f052300056b  028400642255   \n",
       "3  5ff1e1f10a720f052300057a           NaN   \n",
       "4  5ff1e1ee0a7214ada100056f          4011   \n",
       "\n",
       "                                         description finalPrice itemPrice  \\\n",
       "0                                     ITEM NOT FOUND      26.00     26.00   \n",
       "1                                     ITEM NOT FOUND          1         1   \n",
       "2  DORITOS TORTILLA CHIP SPICY SWEET CHILI REDUCE...      10.00     10.00   \n",
       "3                                                NaN        NaN       NaN   \n",
       "4                                     ITEM NOT FOUND      28.00     28.00   \n",
       "\n",
       "  needsFetchReview partnerItemId preventTargetGapPoints  quantityPurchased  \\\n",
       "0            False             1                   True                5.0   \n",
       "1              NaN             1                    NaN                1.0   \n",
       "2             True             2                   True                1.0   \n",
       "3            False             1                   True                NaN   \n",
       "4            False             1                   True                4.0   \n",
       "\n",
       "  userFlaggedBarcode  ... itemNumber originalMetaBriteQuantityPurchased  \\\n",
       "0               4011  ...        NaN                                NaN   \n",
       "1                NaN  ...        NaN                                NaN   \n",
       "2       028400642255  ...        NaN                                NaN   \n",
       "3               4011  ...        NaN                                NaN   \n",
       "4               4011  ...        NaN                                NaN   \n",
       "\n",
       "   pointsEarned targetPrice competitiveProduct originalFinalPrice  \\\n",
       "0           NaN         NaN                NaN                NaN   \n",
       "1           NaN         NaN                NaN                NaN   \n",
       "2           NaN         NaN                NaN                NaN   \n",
       "3           NaN         NaN                NaN                NaN   \n",
       "4           NaN         NaN                NaN                NaN   \n",
       "\n",
       "  originalMetaBriteItemPrice deleted priceAfterCoupon metabriteCampaignId  \n",
       "0                        NaN     NaN              NaN                 NaN  \n",
       "1                        NaN     NaN              NaN                 NaN  \n",
       "2                        NaN     NaN              NaN                 NaN  \n",
       "3                        NaN     NaN              NaN                 NaN  \n",
       "4                        NaN     NaN              NaN                 NaN  \n",
       "\n",
       "[5 rows x 35 columns]"
      ]
     },
     "execution_count": 14,
     "metadata": {},
     "output_type": "execute_result"
    }
   ],
   "source": [
    "reward_receipts_df.head()"
   ]
  },
  {
   "cell_type": "code",
   "execution_count": 15,
   "id": "dcd5255e",
   "metadata": {},
   "outputs": [
    {
     "name": "stdout",
     "output_type": "stream",
     "text": [
      "<class 'pandas.core.frame.DataFrame'>\n",
      "RangeIndex: 6941 entries, 0 to 6940\n",
      "Data columns (total 35 columns):\n",
      " #   Column                              Non-Null Count  Dtype  \n",
      "---  ------                              --------------  -----  \n",
      " 0   _id                                 6941 non-null   object \n",
      " 1   barcode                             3090 non-null   object \n",
      " 2   description                         6560 non-null   object \n",
      " 3   finalPrice                          6767 non-null   object \n",
      " 4   itemPrice                           6767 non-null   object \n",
      " 5   needsFetchReview                    813 non-null    object \n",
      " 6   partnerItemId                       6941 non-null   object \n",
      " 7   preventTargetGapPoints              358 non-null    object \n",
      " 8   quantityPurchased                   6767 non-null   float64\n",
      " 9   userFlaggedBarcode                  337 non-null    object \n",
      " 10  userFlaggedNewItem                  323 non-null    object \n",
      " 11  userFlaggedPrice                    299 non-null    object \n",
      " 12  userFlaggedQuantity                 299 non-null    float64\n",
      " 13  needsFetchReviewReason              219 non-null    object \n",
      " 14  pointsNotAwardedReason              340 non-null    object \n",
      " 15  pointsPayerId                       1267 non-null   object \n",
      " 16  rewardsGroup                        1731 non-null   object \n",
      " 17  rewardsProductPartnerId             2269 non-null   object \n",
      " 18  userFlaggedDescription              205 non-null    object \n",
      " 19  originalMetaBriteBarcode            71 non-null     object \n",
      " 20  originalMetaBriteDescription        10 non-null     object \n",
      " 21  brandCode                           2600 non-null   object \n",
      " 22  competitorRewardsGroup              275 non-null    object \n",
      " 23  discountedItemPrice                 5769 non-null   object \n",
      " 24  originalReceiptItemText             5760 non-null   object \n",
      " 25  itemNumber                          153 non-null    object \n",
      " 26  originalMetaBriteQuantityPurchased  15 non-null     float64\n",
      " 27  pointsEarned                        927 non-null    object \n",
      " 28  targetPrice                         378 non-null    object \n",
      " 29  competitiveProduct                  645 non-null    object \n",
      " 30  originalFinalPrice                  9 non-null      object \n",
      " 31  originalMetaBriteItemPrice          9 non-null      object \n",
      " 32  deleted                             9 non-null      object \n",
      " 33  priceAfterCoupon                    956 non-null    object \n",
      " 34  metabriteCampaignId                 863 non-null    object \n",
      "dtypes: float64(3), object(32)\n",
      "memory usage: 1.9+ MB\n"
     ]
    }
   ],
   "source": [
    "reward_receipts_df.info()"
   ]
  },
  {
   "cell_type": "code",
   "execution_count": 16,
   "id": "199aa997",
   "metadata": {},
   "outputs": [
    {
     "data": {
      "text/plain": [
       "Index(['_id', 'barcode', 'description', 'finalPrice', 'itemPrice',\n",
       "       'needsFetchReview', 'partnerItemId', 'preventTargetGapPoints',\n",
       "       'quantityPurchased', 'userFlaggedBarcode', 'userFlaggedNewItem',\n",
       "       'userFlaggedPrice', 'userFlaggedQuantity', 'needsFetchReviewReason',\n",
       "       'pointsNotAwardedReason', 'pointsPayerId', 'rewardsGroup',\n",
       "       'rewardsProductPartnerId', 'userFlaggedDescription',\n",
       "       'originalMetaBriteBarcode', 'originalMetaBriteDescription', 'brandCode',\n",
       "       'competitorRewardsGroup', 'discountedItemPrice',\n",
       "       'originalReceiptItemText', 'itemNumber',\n",
       "       'originalMetaBriteQuantityPurchased', 'pointsEarned', 'targetPrice',\n",
       "       'competitiveProduct', 'originalFinalPrice',\n",
       "       'originalMetaBriteItemPrice', 'deleted', 'priceAfterCoupon',\n",
       "       'metabriteCampaignId'],\n",
       "      dtype='object')"
      ]
     },
     "execution_count": 16,
     "metadata": {},
     "output_type": "execute_result"
    }
   ],
   "source": [
    "reward_receipts_df.columns"
   ]
  },
  {
   "cell_type": "code",
   "execution_count": 17,
   "id": "8c7e1425",
   "metadata": {},
   "outputs": [
    {
     "data": {
      "text/plain": [
       "0"
      ]
     },
     "execution_count": 17,
     "metadata": {},
     "output_type": "execute_result"
    }
   ],
   "source": [
    "reward_receipts_df.duplicated().sum()"
   ]
  },
  {
   "cell_type": "code",
   "execution_count": 18,
   "id": "fdd5fde2",
   "metadata": {},
   "outputs": [
    {
     "data": {
      "text/plain": [
       "_id                                    0.00\n",
       "partnerItemId                          0.00\n",
       "finalPrice                             2.51\n",
       "itemPrice                              2.51\n",
       "quantityPurchased                      2.51\n",
       "description                            5.49\n",
       "discountedItemPrice                   16.89\n",
       "originalReceiptItemText               17.01\n",
       "barcode                               55.48\n",
       "brandCode                             62.54\n",
       "rewardsProductPartnerId               67.31\n",
       "rewardsGroup                          75.06\n",
       "pointsPayerId                         81.75\n",
       "priceAfterCoupon                      86.23\n",
       "pointsEarned                          86.64\n",
       "metabriteCampaignId                   87.57\n",
       "needsFetchReview                      88.29\n",
       "competitiveProduct                    90.71\n",
       "targetPrice                           94.55\n",
       "preventTargetGapPoints                94.84\n",
       "pointsNotAwardedReason                95.10\n",
       "userFlaggedBarcode                    95.14\n",
       "userFlaggedNewItem                    95.35\n",
       "userFlaggedPrice                      95.69\n",
       "userFlaggedQuantity                   95.69\n",
       "competitorRewardsGroup                96.04\n",
       "needsFetchReviewReason                96.84\n",
       "userFlaggedDescription                97.05\n",
       "itemNumber                            97.80\n",
       "originalMetaBriteBarcode              98.98\n",
       "originalMetaBriteQuantityPurchased    99.78\n",
       "originalMetaBriteDescription          99.86\n",
       "originalFinalPrice                    99.87\n",
       "originalMetaBriteItemPrice            99.87\n",
       "deleted                               99.87\n",
       "dtype: float64"
      ]
     },
     "execution_count": 18,
     "metadata": {},
     "output_type": "execute_result"
    }
   ],
   "source": [
    "# % Null values in reward_receipts\n",
    "round(reward_receipts_df.isnull().mean()*100,2).sort_values()"
   ]
  },
  {
   "cell_type": "code",
   "execution_count": 19,
   "id": "0554a653",
   "metadata": {},
   "outputs": [],
   "source": [
    "reward_receipts_df.to_csv(r'RewardReceiptItems.csv', index=False)"
   ]
  },
  {
   "cell_type": "markdown",
   "id": "3367b921",
   "metadata": {},
   "source": [
    "##### Brands:"
   ]
  },
  {
   "cell_type": "code",
   "execution_count": 20,
   "id": "25cf4fb4",
   "metadata": {},
   "outputs": [],
   "source": [
    "# Importing brands.json\n",
    "\n",
    "brands_data = load_data('brands.json')"
   ]
  },
  {
   "cell_type": "code",
   "execution_count": 21,
   "id": "d469407f",
   "metadata": {},
   "outputs": [],
   "source": [
    "#Brands df\n",
    "\n",
    "brands_new=[]\n",
    "\n",
    "for i in range(len(brands_data)):\n",
    "    brands_1={}\n",
    "    for key,value in brands_data[i].items():\n",
    "        if (key=='cpg'):\n",
    "            brands_1[f'{key}_id']=value['$id']['$oid']\n",
    "            brands_1[f'{key}_ref']=value['$ref']            \n",
    "        elif (key=='_id'):\n",
    "            brands_1[f'{key}']=value['$oid']            \n",
    "        else:\n",
    "            brands_1[f'{key}'] = value\n",
    "    brands_new.append(brands_1)\n"
   ]
  },
  {
   "cell_type": "code",
   "execution_count": 22,
   "id": "e0caa45c",
   "metadata": {},
   "outputs": [],
   "source": [
    "# Brands dataframe\n",
    "\n",
    "brands_df =pd.DataFrame(brands_new)"
   ]
  },
  {
   "cell_type": "code",
   "execution_count": 23,
   "id": "b454f251",
   "metadata": {},
   "outputs": [
    {
     "data": {
      "text/html": [
       "<div>\n",
       "<style scoped>\n",
       "    .dataframe tbody tr th:only-of-type {\n",
       "        vertical-align: middle;\n",
       "    }\n",
       "\n",
       "    .dataframe tbody tr th {\n",
       "        vertical-align: top;\n",
       "    }\n",
       "\n",
       "    .dataframe thead th {\n",
       "        text-align: right;\n",
       "    }\n",
       "</style>\n",
       "<table border=\"1\" class=\"dataframe\">\n",
       "  <thead>\n",
       "    <tr style=\"text-align: right;\">\n",
       "      <th></th>\n",
       "      <th>_id</th>\n",
       "      <th>barcode</th>\n",
       "      <th>category</th>\n",
       "      <th>categoryCode</th>\n",
       "      <th>cpg_id</th>\n",
       "      <th>cpg_ref</th>\n",
       "      <th>name</th>\n",
       "      <th>topBrand</th>\n",
       "      <th>brandCode</th>\n",
       "    </tr>\n",
       "  </thead>\n",
       "  <tbody>\n",
       "    <tr>\n",
       "      <th>0</th>\n",
       "      <td>601ac115be37ce2ead437551</td>\n",
       "      <td>511111019862</td>\n",
       "      <td>Baking</td>\n",
       "      <td>BAKING</td>\n",
       "      <td>601ac114be37ce2ead437550</td>\n",
       "      <td>Cogs</td>\n",
       "      <td>test brand @1612366101024</td>\n",
       "      <td>False</td>\n",
       "      <td>NaN</td>\n",
       "    </tr>\n",
       "    <tr>\n",
       "      <th>1</th>\n",
       "      <td>601c5460be37ce2ead43755f</td>\n",
       "      <td>511111519928</td>\n",
       "      <td>Beverages</td>\n",
       "      <td>BEVERAGES</td>\n",
       "      <td>5332f5fbe4b03c9a25efd0ba</td>\n",
       "      <td>Cogs</td>\n",
       "      <td>Starbucks</td>\n",
       "      <td>False</td>\n",
       "      <td>STARBUCKS</td>\n",
       "    </tr>\n",
       "    <tr>\n",
       "      <th>2</th>\n",
       "      <td>601ac142be37ce2ead43755d</td>\n",
       "      <td>511111819905</td>\n",
       "      <td>Baking</td>\n",
       "      <td>BAKING</td>\n",
       "      <td>601ac142be37ce2ead437559</td>\n",
       "      <td>Cogs</td>\n",
       "      <td>test brand @1612366146176</td>\n",
       "      <td>False</td>\n",
       "      <td>TEST BRANDCODE @1612366146176</td>\n",
       "    </tr>\n",
       "    <tr>\n",
       "      <th>3</th>\n",
       "      <td>601ac142be37ce2ead43755a</td>\n",
       "      <td>511111519874</td>\n",
       "      <td>Baking</td>\n",
       "      <td>BAKING</td>\n",
       "      <td>601ac142be37ce2ead437559</td>\n",
       "      <td>Cogs</td>\n",
       "      <td>test brand @1612366146051</td>\n",
       "      <td>False</td>\n",
       "      <td>TEST BRANDCODE @1612366146051</td>\n",
       "    </tr>\n",
       "    <tr>\n",
       "      <th>4</th>\n",
       "      <td>601ac142be37ce2ead43755e</td>\n",
       "      <td>511111319917</td>\n",
       "      <td>Candy &amp; Sweets</td>\n",
       "      <td>CANDY_AND_SWEETS</td>\n",
       "      <td>5332fa12e4b03c9a25efd1e7</td>\n",
       "      <td>Cogs</td>\n",
       "      <td>test brand @1612366146827</td>\n",
       "      <td>False</td>\n",
       "      <td>TEST BRANDCODE @1612366146827</td>\n",
       "    </tr>\n",
       "  </tbody>\n",
       "</table>\n",
       "</div>"
      ],
      "text/plain": [
       "                        _id       barcode        category      categoryCode  \\\n",
       "0  601ac115be37ce2ead437551  511111019862          Baking            BAKING   \n",
       "1  601c5460be37ce2ead43755f  511111519928       Beverages         BEVERAGES   \n",
       "2  601ac142be37ce2ead43755d  511111819905          Baking            BAKING   \n",
       "3  601ac142be37ce2ead43755a  511111519874          Baking            BAKING   \n",
       "4  601ac142be37ce2ead43755e  511111319917  Candy & Sweets  CANDY_AND_SWEETS   \n",
       "\n",
       "                     cpg_id cpg_ref                       name topBrand  \\\n",
       "0  601ac114be37ce2ead437550    Cogs  test brand @1612366101024    False   \n",
       "1  5332f5fbe4b03c9a25efd0ba    Cogs                  Starbucks    False   \n",
       "2  601ac142be37ce2ead437559    Cogs  test brand @1612366146176    False   \n",
       "3  601ac142be37ce2ead437559    Cogs  test brand @1612366146051    False   \n",
       "4  5332fa12e4b03c9a25efd1e7    Cogs  test brand @1612366146827    False   \n",
       "\n",
       "                       brandCode  \n",
       "0                            NaN  \n",
       "1                      STARBUCKS  \n",
       "2  TEST BRANDCODE @1612366146176  \n",
       "3  TEST BRANDCODE @1612366146051  \n",
       "4  TEST BRANDCODE @1612366146827  "
      ]
     },
     "execution_count": 23,
     "metadata": {},
     "output_type": "execute_result"
    }
   ],
   "source": [
    "brands_df.head()"
   ]
  },
  {
   "cell_type": "code",
   "execution_count": 24,
   "id": "8ae112d0",
   "metadata": {},
   "outputs": [
    {
     "name": "stdout",
     "output_type": "stream",
     "text": [
      "<class 'pandas.core.frame.DataFrame'>\n",
      "RangeIndex: 1167 entries, 0 to 1166\n",
      "Data columns (total 9 columns):\n",
      " #   Column        Non-Null Count  Dtype \n",
      "---  ------        --------------  ----- \n",
      " 0   _id           1167 non-null   object\n",
      " 1   barcode       1167 non-null   object\n",
      " 2   category      1012 non-null   object\n",
      " 3   categoryCode  517 non-null    object\n",
      " 4   cpg_id        1167 non-null   object\n",
      " 5   cpg_ref       1167 non-null   object\n",
      " 6   name          1167 non-null   object\n",
      " 7   topBrand      555 non-null    object\n",
      " 8   brandCode     933 non-null    object\n",
      "dtypes: object(9)\n",
      "memory usage: 82.2+ KB\n"
     ]
    }
   ],
   "source": [
    "brands_df.info()"
   ]
  },
  {
   "cell_type": "code",
   "execution_count": 25,
   "id": "42f371e7",
   "metadata": {},
   "outputs": [
    {
     "data": {
      "text/plain": [
       "0"
      ]
     },
     "execution_count": 25,
     "metadata": {},
     "output_type": "execute_result"
    }
   ],
   "source": [
    "brands_df.duplicated().sum()"
   ]
  },
  {
   "cell_type": "code",
   "execution_count": 26,
   "id": "6fa4ec91",
   "metadata": {},
   "outputs": [
    {
     "data": {
      "text/plain": [
       "Index(['_id', 'barcode', 'category', 'categoryCode', 'cpg_id', 'cpg_ref',\n",
       "       'name', 'topBrand', 'brandCode'],\n",
       "      dtype='object')"
      ]
     },
     "execution_count": 26,
     "metadata": {},
     "output_type": "execute_result"
    }
   ],
   "source": [
    "brands_df.columns"
   ]
  },
  {
   "cell_type": "code",
   "execution_count": 27,
   "id": "2d0b1fa9",
   "metadata": {},
   "outputs": [
    {
     "data": {
      "text/plain": [
       "_id              0.00\n",
       "barcode          0.00\n",
       "cpg_id           0.00\n",
       "cpg_ref          0.00\n",
       "name             0.00\n",
       "category        13.28\n",
       "brandCode       20.05\n",
       "topBrand        52.44\n",
       "categoryCode    55.70\n",
       "dtype: float64"
      ]
     },
     "execution_count": 27,
     "metadata": {},
     "output_type": "execute_result"
    }
   ],
   "source": [
    "# % Null values in brands \n",
    "round(brands_df.isnull().mean()*100,2).sort_values()"
   ]
  },
  {
   "cell_type": "code",
   "execution_count": 28,
   "id": "d7236b58",
   "metadata": {},
   "outputs": [],
   "source": [
    "brands_df.to_csv(r'Brands.csv', index=False)"
   ]
  },
  {
   "cell_type": "markdown",
   "id": "2f7a3aa4",
   "metadata": {},
   "source": [
    "##### Users:"
   ]
  },
  {
   "cell_type": "code",
   "execution_count": 29,
   "id": "fdee4222",
   "metadata": {},
   "outputs": [],
   "source": [
    "# Importing users.json \n",
    "\n",
    "users_data = load_data('users.json')"
   ]
  },
  {
   "cell_type": "code",
   "execution_count": 30,
   "id": "32e02f2b",
   "metadata": {},
   "outputs": [],
   "source": [
    "users_data_new=[]\n",
    "\n",
    "for i in range(len(users_data)):\n",
    "    users1={}\n",
    "    for key,value in users_data[i].items():    \n",
    "        if (key == 'lastLogin') or (key == 'createdDate'):\n",
    "            users1[key] = modify_date(value['$date'])          \n",
    "        elif (key == '_id'):\n",
    "            users1[f'{key}']=value['$oid']        \n",
    "        else:\n",
    "            users1[f'{key}'] = value\n",
    "    users_data_new.append(users1)"
   ]
  },
  {
   "cell_type": "code",
   "execution_count": 31,
   "id": "607cabcc",
   "metadata": {},
   "outputs": [],
   "source": [
    "# Users Dataframe\n",
    "\n",
    "users_df =pd.DataFrame(users_data_new)"
   ]
  },
  {
   "cell_type": "code",
   "execution_count": 32,
   "id": "8ac3e87a",
   "metadata": {},
   "outputs": [
    {
     "data": {
      "text/html": [
       "<div>\n",
       "<style scoped>\n",
       "    .dataframe tbody tr th:only-of-type {\n",
       "        vertical-align: middle;\n",
       "    }\n",
       "\n",
       "    .dataframe tbody tr th {\n",
       "        vertical-align: top;\n",
       "    }\n",
       "\n",
       "    .dataframe thead th {\n",
       "        text-align: right;\n",
       "    }\n",
       "</style>\n",
       "<table border=\"1\" class=\"dataframe\">\n",
       "  <thead>\n",
       "    <tr style=\"text-align: right;\">\n",
       "      <th></th>\n",
       "      <th>_id</th>\n",
       "      <th>active</th>\n",
       "      <th>createdDate</th>\n",
       "      <th>lastLogin</th>\n",
       "      <th>role</th>\n",
       "      <th>signUpSource</th>\n",
       "      <th>state</th>\n",
       "    </tr>\n",
       "  </thead>\n",
       "  <tbody>\n",
       "    <tr>\n",
       "      <th>0</th>\n",
       "      <td>5ff1e194b6a9d73a3a9f1052</td>\n",
       "      <td>True</td>\n",
       "      <td>2021-01-03 15:24:04</td>\n",
       "      <td>2021-01-03 15:25:37</td>\n",
       "      <td>consumer</td>\n",
       "      <td>Email</td>\n",
       "      <td>WI</td>\n",
       "    </tr>\n",
       "    <tr>\n",
       "      <th>1</th>\n",
       "      <td>5ff1e194b6a9d73a3a9f1052</td>\n",
       "      <td>True</td>\n",
       "      <td>2021-01-03 15:24:04</td>\n",
       "      <td>2021-01-03 15:25:37</td>\n",
       "      <td>consumer</td>\n",
       "      <td>Email</td>\n",
       "      <td>WI</td>\n",
       "    </tr>\n",
       "    <tr>\n",
       "      <th>2</th>\n",
       "      <td>5ff1e194b6a9d73a3a9f1052</td>\n",
       "      <td>True</td>\n",
       "      <td>2021-01-03 15:24:04</td>\n",
       "      <td>2021-01-03 15:25:37</td>\n",
       "      <td>consumer</td>\n",
       "      <td>Email</td>\n",
       "      <td>WI</td>\n",
       "    </tr>\n",
       "    <tr>\n",
       "      <th>3</th>\n",
       "      <td>5ff1e1eacfcf6c399c274ae6</td>\n",
       "      <td>True</td>\n",
       "      <td>2021-01-03 15:25:30</td>\n",
       "      <td>2021-01-03 15:25:30</td>\n",
       "      <td>consumer</td>\n",
       "      <td>Email</td>\n",
       "      <td>WI</td>\n",
       "    </tr>\n",
       "    <tr>\n",
       "      <th>4</th>\n",
       "      <td>5ff1e194b6a9d73a3a9f1052</td>\n",
       "      <td>True</td>\n",
       "      <td>2021-01-03 15:24:04</td>\n",
       "      <td>2021-01-03 15:25:37</td>\n",
       "      <td>consumer</td>\n",
       "      <td>Email</td>\n",
       "      <td>WI</td>\n",
       "    </tr>\n",
       "  </tbody>\n",
       "</table>\n",
       "</div>"
      ],
      "text/plain": [
       "                        _id  active          createdDate            lastLogin  \\\n",
       "0  5ff1e194b6a9d73a3a9f1052    True  2021-01-03 15:24:04  2021-01-03 15:25:37   \n",
       "1  5ff1e194b6a9d73a3a9f1052    True  2021-01-03 15:24:04  2021-01-03 15:25:37   \n",
       "2  5ff1e194b6a9d73a3a9f1052    True  2021-01-03 15:24:04  2021-01-03 15:25:37   \n",
       "3  5ff1e1eacfcf6c399c274ae6    True  2021-01-03 15:25:30  2021-01-03 15:25:30   \n",
       "4  5ff1e194b6a9d73a3a9f1052    True  2021-01-03 15:24:04  2021-01-03 15:25:37   \n",
       "\n",
       "       role signUpSource state  \n",
       "0  consumer        Email    WI  \n",
       "1  consumer        Email    WI  \n",
       "2  consumer        Email    WI  \n",
       "3  consumer        Email    WI  \n",
       "4  consumer        Email    WI  "
      ]
     },
     "execution_count": 32,
     "metadata": {},
     "output_type": "execute_result"
    }
   ],
   "source": [
    "users_df.head()"
   ]
  },
  {
   "cell_type": "code",
   "execution_count": 33,
   "id": "eba39c59",
   "metadata": {},
   "outputs": [
    {
     "name": "stdout",
     "output_type": "stream",
     "text": [
      "<class 'pandas.core.frame.DataFrame'>\n",
      "RangeIndex: 495 entries, 0 to 494\n",
      "Data columns (total 7 columns):\n",
      " #   Column        Non-Null Count  Dtype \n",
      "---  ------        --------------  ----- \n",
      " 0   _id           495 non-null    object\n",
      " 1   active        495 non-null    bool  \n",
      " 2   createdDate   495 non-null    object\n",
      " 3   lastLogin     433 non-null    object\n",
      " 4   role          495 non-null    object\n",
      " 5   signUpSource  447 non-null    object\n",
      " 6   state         439 non-null    object\n",
      "dtypes: bool(1), object(6)\n",
      "memory usage: 23.8+ KB\n"
     ]
    }
   ],
   "source": [
    "users_df.info()"
   ]
  },
  {
   "cell_type": "code",
   "execution_count": 34,
   "id": "095f6385",
   "metadata": {},
   "outputs": [
    {
     "data": {
      "text/plain": [
       "283"
      ]
     },
     "execution_count": 34,
     "metadata": {},
     "output_type": "execute_result"
    }
   ],
   "source": [
    "#Checking for Duplicates\n",
    "\n",
    "users_df.duplicated().sum()"
   ]
  },
  {
   "cell_type": "code",
   "execution_count": 35,
   "id": "d5767253",
   "metadata": {},
   "outputs": [
    {
     "data": {
      "text/plain": [
       "495"
      ]
     },
     "execution_count": 35,
     "metadata": {},
     "output_type": "execute_result"
    }
   ],
   "source": [
    "len(users_df)"
   ]
  },
  {
   "cell_type": "code",
   "execution_count": 36,
   "id": "6a5cc839",
   "metadata": {},
   "outputs": [],
   "source": [
    "users_df = users_df.drop_duplicates()"
   ]
  },
  {
   "cell_type": "code",
   "execution_count": 37,
   "id": "79cb49e1",
   "metadata": {},
   "outputs": [
    {
     "data": {
      "text/plain": [
       "212"
      ]
     },
     "execution_count": 37,
     "metadata": {},
     "output_type": "execute_result"
    }
   ],
   "source": [
    "len(users_df)"
   ]
  },
  {
   "cell_type": "code",
   "execution_count": 38,
   "id": "4df65f41",
   "metadata": {},
   "outputs": [
    {
     "data": {
      "text/plain": [
       "_id              0.00\n",
       "active           0.00\n",
       "createdDate      0.00\n",
       "role             0.00\n",
       "signUpSource     2.36\n",
       "state            2.83\n",
       "lastLogin       18.87\n",
       "dtype: float64"
      ]
     },
     "execution_count": 38,
     "metadata": {},
     "output_type": "execute_result"
    }
   ],
   "source": [
    "# % Null Values in Users\n",
    "round(users_df.isnull().mean()*100,2).sort_values()"
   ]
  },
  {
   "cell_type": "code",
   "execution_count": 39,
   "id": "7903f604",
   "metadata": {},
   "outputs": [],
   "source": [
    "users_df.to_csv(r'Users.csv', index=False)"
   ]
  },
  {
   "attachments": {},
   "cell_type": "markdown",
   "id": "e398ad64",
   "metadata": {},
   "source": [
    "**Data Model for the tables:**\n",
    "\n",
    "> Attached in FetchRewardsAssessment.drawio file attached in the repository."
   ]
  },
  {
   "cell_type": "markdown",
   "id": "6af2abdb",
   "metadata": {},
   "source": [
    "### 2.  Generate a query that answers a predetermined business question"
   ]
  },
  {
   "cell_type": "markdown",
   "id": "a7792836",
   "metadata": {},
   "source": [
    "> Attached FetchRewardsAssessment.sql file for this section"
   ]
  },
  {
   "cell_type": "markdown",
   "id": "99d5c017",
   "metadata": {},
   "source": [
    "### 3. Evaluate Data Quality Issues in the Data Provided"
   ]
  },
  {
   "cell_type": "markdown",
   "id": "52ef7e66",
   "metadata": {},
   "source": [
    "> Attached FetchRewardsAssessment_DQ.sql file for this section"
   ]
  },
  {
   "cell_type": "markdown",
   "id": "d1830397",
   "metadata": {},
   "source": [
    "### 4. Communicate with Stakeholders"
   ]
  },
  {
   "cell_type": "markdown",
   "id": "163be11d",
   "metadata": {},
   "source": [
    "> Attached Email_Communication.txt file for this section"
   ]
  },
  {
   "cell_type": "code",
   "execution_count": null,
   "id": "4db5c83b",
   "metadata": {},
   "outputs": [],
   "source": []
  }
 ],
 "metadata": {
  "kernelspec": {
   "display_name": "Python 3 (ipykernel)",
   "language": "python",
   "name": "python3"
  },
  "language_info": {
   "codemirror_mode": {
    "name": "ipython",
    "version": 3
   },
   "file_extension": ".py",
   "mimetype": "text/x-python",
   "name": "python",
   "nbconvert_exporter": "python",
   "pygments_lexer": "ipython3",
   "version": "3.11.4"
  }
 },
 "nbformat": 4,
 "nbformat_minor": 5
}
